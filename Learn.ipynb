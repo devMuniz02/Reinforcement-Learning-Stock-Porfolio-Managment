{
 "cells": [
  {
   "cell_type": "markdown",
   "id": "2554cc83-0f55-4274-930e-e1b7172b50cf",
   "metadata": {},
   "source": [
    "NLP\n",
    "TRANSFORMER\n",
    "LLM\n",
    "CNN\n",
    "NN TERMS\n",
    "LSTM\n",
    "RL\n",
    "VISION\n"
   ]
  }
 ],
 "metadata": {
  "kernelspec": {
   "display_name": "sagemaker-distribution:Python",
   "language": "python",
   "name": "conda-env-sagemaker-distribution-py"
  },
  "language_info": {
   "codemirror_mode": {
    "name": "ipython",
    "version": 3
   },
   "file_extension": ".py",
   "mimetype": "text/x-python",
   "name": "python",
   "nbconvert_exporter": "python",
   "pygments_lexer": "ipython3",
   "version": "3.10.14"
  }
 },
 "nbformat": 4,
 "nbformat_minor": 5
}
